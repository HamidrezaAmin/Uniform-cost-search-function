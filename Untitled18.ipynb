{
 "cells": [
  {
   "cell_type": "markdown",
   "id": "0dddae55",
   "metadata": {},
   "source": [
    "##  Essentially, you will have to implement the uniform_cost_search function. The input to this function is the start state, one or more goal states, the input graph and the cost of edges in the graph. Your implementation of the uniform_cost_search should return the minimum cost(s) of reaching the goal state(s) from the start state. As an example, for the following graph, the minimum cost of reaching from node 0 to node 7 is 10."
   ]
  },
  {
   "attachments": {
    "sq.jpg": {
     "image/jpeg": "[encoded data removed]"
    }
   },
   "cell_type": "markdown",
   "id": "b5e42e18",
   "metadata": {},
   "source": [
    "![sq.jpg](attachment:sq.jpg)"
   ]
  },
  {
   "cell_type": "code",
   "execution_count": 7,
   "id": "1fb59085",
   "metadata": {},
   "outputs": [],
   "source": [
    "# uniform cost function\n",
    "# returns the minimum cost (Bonus: returns path to minimum cost as well)\n",
    "def uniform_cost_search(start, goal, graph, cost):\n",
    "    # Custom implementation of a priority queue using a list\n",
    "    priority_queue = []\n",
    "\n",
    "    # Helper function to push a node into the priority queue\n",
    "    def push(node, cost):\n",
    "        priority_queue.append((cost, node))\n",
    "        priority_queue.sort()\n",
    "\n",
    "    # Dictionary to store the minimum cost and path information for each node\n",
    "    answer = {node: {'cost': float('inf'), 'path': []} for node in range(len(graph))}\n",
    "\n",
    "    # Update cost and path for the starting node\n",
    "    answer[start]['cost'] = 0\n",
    "    answer[start]['path'].append(start)\n",
    "\n",
    "    # Push the starting node into the priority queue\n",
    "    push(start, 0)\n",
    "\n",
    "    while priority_queue:\n",
    "        current_cost, current_node = priority_queue.pop(0)\n",
    "\n",
    "        # Check if the current node is a goal node\n",
    "        if current_node in goal:\n",
    "            # Update the minimum cost and path for the goal node\n",
    "            answer[current_node]['cost'] = current_cost\n",
    "            answer[current_node]['path'] = answer[current_node]['path'][:-1]  # Remove the duplicate goal node\n",
    "            break\n",
    "\n",
    "        # Explore neighbors of the current node\n",
    "        for neighbor in graph[current_node]:\n",
    "            # Calculate the cost to reach the neighbor from the current node\n",
    "            neighbor_cost = current_cost + cost[(current_node, neighbor)]\n",
    "\n",
    "            # If the new cost is less than the current cost for the neighbor, update the information\n",
    "            if neighbor_cost < answer[neighbor]['cost']:\n",
    "                push(neighbor, neighbor_cost)\n",
    "                answer[neighbor]['cost'] = neighbor_cost\n",
    "                answer[neighbor]['path'] = answer[current_node]['path'] + [neighbor]\n",
    "\n",
    "    return answer"
   ]
  },
  {
   "cell_type": "code",
   "execution_count": 8,
   "id": "68c069bf",
   "metadata": {},
   "outputs": [
    {
     "name": "stdout",
     "output_type": "stream",
     "text": [
      "Minimum cost from 0 to 0 is 0, path: [0]\n",
      "Minimum cost from 0 to 1 is 6, path: [0, 4, 2, 1]\n",
      "Minimum cost from 0 to 2 is 4, path: [0, 4, 2]\n",
      "Minimum cost from 0 to 3 is 11, path: [0, 4, 3]\n",
      "Minimum cost from 0 to 4 is 3, path: [0, 4]\n",
      "Minimum cost from 0 to 5 is 5, path: [0, 4, 5]\n",
      "Minimum cost from 0 to 6 is 8, path: [0, 4, 5, 18, 6]\n",
      "Minimum cost from 0 to 7 is 10, path: [0, 4, 5, 18, 6]\n",
      "Minimum cost from 0 to 8 is 8, path: [0, 4, 5, 8]\n",
      "Minimum cost from 0 to 9 is inf, path: []\n",
      "Minimum cost from 0 to 10 is inf, path: []\n",
      "Minimum cost from 0 to 11 is inf, path: []\n",
      "Minimum cost from 0 to 12 is inf, path: []\n",
      "Minimum cost from 0 to 13 is inf, path: []\n",
      "Minimum cost from 0 to 14 is inf, path: []\n",
      "Minimum cost from 0 to 15 is inf, path: []\n",
      "Minimum cost from 0 to 16 is 1, path: [0, 16]\n",
      "Minimum cost from 0 to 17 is 12, path: [0, 4, 5, 8, 17]\n",
      "Minimum cost from 0 to 18 is 7, path: [0, 4, 5, 18]\n",
      "Minimum cost from 0 to 19 is inf, path: []\n",
      "Minimum cost from 0 to 20 is inf, path: []\n",
      "Minimum cost from 0 to 21 is inf, path: []\n",
      "Minimum cost from 0 to 22 is inf, path: []\n",
      "Minimum cost from 0 to 23 is inf, path: []\n",
      "Minimum cost from 0 to 24 is inf, path: []\n",
      "Minimum cost from 0 to 25 is inf, path: []\n",
      "Minimum cost from 0 to 26 is inf, path: []\n",
      "Minimum cost from 0 to 27 is inf, path: []\n",
      "Minimum cost from 0 to 28 is inf, path: []\n",
      "Minimum cost from 0 to 29 is inf, path: []\n"
     ]
    }
   ],
   "source": [
    "# main function\n",
    "if __name__ == '__main__':\n",
    "    # create a graph with no more than 30 nodes\n",
    "    graph, cost = [[] for i in range(30)], {}\n",
    "\n",
    "    # add edges to the graph\n",
    "    graph[0].append(4)\n",
    "    graph[0].append(5)\n",
    "    graph[0].append(16)\n",
    "    graph[2].append(1)\n",
    "    graph[3].append(1)\n",
    "    graph[4].append(2)\n",
    "    graph[4].append(3)\n",
    "    graph[4].append(5)\n",
    "    graph[5].append(8)\n",
    "    graph[5].append(18)\n",
    "    graph[6].append(3)\n",
    "    graph[6].append(7)\n",
    "    graph[8].append(16)\n",
    "    graph[8].append(17)\n",
    "    graph[16].append(17)\n",
    "    graph[18].append(6)\n",
    "\n",
    "    # add cost to each edge\n",
    "    cost[(0, 4)] = 3\n",
    "    cost[(0, 5)] = 9\n",
    "    cost[(0, 16)] = 1\n",
    "    cost[(2, 1)] = 2\n",
    "    cost[(3, 1)] = 2\n",
    "    cost[(4, 2)] = 1\n",
    "    cost[(4, 3)] = 8\n",
    "    cost[(4, 5)] = 2\n",
    "    cost[(5, 8)] = 3\n",
    "    cost[(5, 18)] = 2\n",
    "    cost[(6, 3)] = 3\n",
    "    cost[(6, 7)] = 2\n",
    "    cost[(8, 16)] = 4\n",
    "    cost[(8, 17)] = 4\n",
    "    cost[(16, 17)] = 15\n",
    "    cost[(18, 6)] = 1\n",
    "\n",
    "    # set start state\n",
    "    start = 0\n",
    "\n",
    "    # set goal state, there can be multiple goal states\n",
    "    goal = [7]\n",
    "\n",
    "    # call uniform_search_cost function to get the minimum cost to reach goal. Bonus points for path\n",
    "    # ****** You have to implement this function *****\n",
    "    min_cost_info = uniform_cost_search(start, goal, graph, cost)\n",
    "\n",
    "    for node, info in min_cost_info.items():\n",
    "        print(f'Minimum cost from {start} to {node} is {info[\"cost\"]}, path: {info[\"path\"]}')"
   ]
  },
  {
   "cell_type": "code",
   "execution_count": null,
   "id": "9da41927",
   "metadata": {},
   "outputs": [],
   "source": []
  }
 ],
 "metadata": {
  "kernelspec": {
   "display_name": "Python 3 (ipykernel)",
   "language": "python",
   "name": "python3"
  },
  "language_info": {
   "codemirror_mode": {
    "name": "ipython",
    "version": 3
   },
   "file_extension": ".py",
   "mimetype": "text/x-python",
   "name": "python",
   "nbconvert_exporter": "python",
   "pygments_lexer": "ipython3",
   "version": "3.11.4"
  }
 },
 "nbformat": 4,
 "nbformat_minor": 5
}
